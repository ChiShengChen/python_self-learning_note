{
 "cells": [
  {
   "cell_type": "code",
   "execution_count": 6,
   "metadata": {},
   "outputs": [
    {
     "name": "stdout",
     "output_type": "stream",
     "text": [
      "['meow', 'apple', 299792458, 'abc']\n"
     ]
    }
   ],
   "source": [
    "list_a = [\"meow\", \"apple\", 299792458, 'abc']\n",
    "list_b = []\n",
    "\n",
    "print(list_a)"
   ]
  },
  {
   "cell_type": "code",
   "execution_count": 8,
   "metadata": {},
   "outputs": [
    {
     "name": "stdout",
     "output_type": "stream",
     "text": [
      "['meow', 'apple', 'abc']\n",
      "[299792458]\n"
     ]
    }
   ],
   "source": [
    "x = 0\n",
    "for i in list_a:\n",
    "    if isinstance(i, int):\n",
    "        list_b.append(i)\n",
    "        list_a.pop(x)\n",
    "    x += 1     #x = 索引值 當索引值為0的時候，我們可以抓到list_a[0]的資料，索引值為X+1時，可以抓到list_a[1]的資料，以此類推\n",
    "    \n",
    "print(list_a)\n",
    "print(list_b)"
   ]
  },
  {
   "cell_type": "code",
   "execution_count": null,
   "metadata": {},
   "outputs": [],
   "source": []
  }
 ],
 "metadata": {
  "kernelspec": {
   "display_name": "Python 3",
   "language": "python",
   "name": "python3"
  },
  "language_info": {
   "codemirror_mode": {
    "name": "ipython",
    "version": 3
   },
   "file_extension": ".py",
   "mimetype": "text/x-python",
   "name": "python",
   "nbconvert_exporter": "python",
   "pygments_lexer": "ipython3",
   "version": "3.5.2"
  }
 },
 "nbformat": 4,
 "nbformat_minor": 2
}
